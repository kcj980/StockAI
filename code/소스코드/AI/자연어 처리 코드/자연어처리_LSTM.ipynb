{
 "cells": [
  {
   "cell_type": "markdown",
   "id": "bbaa2d5c-87f3-491c-870a-e6df823d49df",
   "metadata": {},
   "source": [
    "# 자연어 처리"
   ]
  },
  {
   "cell_type": "markdown",
   "id": "f311bfa5-056d-4397-ae95-c4ea9cf3c778",
   "metadata": {
    "tags": []
   },
   "source": [
    "## 준비단계"
   ]
  },
  {
   "cell_type": "code",
   "execution_count": 2,
   "id": "4335340f-a10d-416b-9bd8-114903acf26d",
   "metadata": {},
   "outputs": [],
   "source": [
    "import pandas as pd\n",
    "import tensorflow as tf\n",
    "import keras\n",
    "from konlpy.tag import Mecab\n",
    "from sklearn.metrics import accuracy_score,f1_score,confusion_matrix, classification_report\n",
    "from sklearn.model_selection import train_test_split\n",
    "from sklearn.feature_extraction.text import CountVectorizer\n",
    "from sklearn.feature_extraction.text import TfidfVectorizer\n",
    "from sklearn.feature_extraction.text import TfidfTransformer\n",
    "mecab = Mecab(\"C:\\\\mecab\\\\mecab-ko-dic\")\n",
    "#fm.findSystemFonts()\n",
    "# plt.rcParams['font.family']= [\"NanumGothicCoding\"]\n",
    "# plt.rcParams[\"axes.unicode_minus\"]=False\n"
   ]
  },
  {
   "cell_type": "code",
   "execution_count": null,
   "id": "1e8225b9-e665-4c65-a80a-3e0294841dfa",
   "metadata": {},
   "outputs": [],
   "source": []
  },
  {
   "cell_type": "code",
   "execution_count": 3,
   "id": "f57588b4-0563-472c-a6b8-6ba5b1929044",
   "metadata": {},
   "outputs": [
    {
     "name": "stdout",
     "output_type": "stream",
     "text": [
      "['오늘', '은', '맑', '은', '날씨', '이', '다', '.'] ['오늘', '날씨']\n"
     ]
    }
   ],
   "source": [
    "#mecab 예제\n",
    "out1 = mecab.morphs(\"오늘은 맑은 날씨이다.\")\n",
    "out2 = mecab.nouns(\"오늘은 맑은 날씨이다.\")\n",
    "print(out1,out2)"
   ]
  },
  {
   "cell_type": "markdown",
   "id": "b313c2b6-18c6-47cc-8a7f-d0fc36fbda07",
   "metadata": {
    "tags": []
   },
   "source": [
    "## 데이터 전처리"
   ]
  },
  {
   "cell_type": "code",
   "execution_count": 4,
   "id": "130874bd-ddeb-4903-be9b-d958079a75e6",
   "metadata": {},
   "outputs": [],
   "source": [
    "#데이터 불러오기\n",
    "train=pd.read_csv(\"../데이터 저장소/NaverNew_labeling105.csv\")\n",
    "train=train.dropna(axis=0)\n",
    "train=train.reset_index(drop=True)"
   ]
  },
  {
   "cell_type": "code",
   "execution_count": 5,
   "id": "6a3d0306-7b3b-4533-84f8-aa20a8eefaaf",
   "metadata": {},
   "outputs": [
    {
     "data": {
      "text/html": [
       "<div>\n",
       "<style scoped>\n",
       "    .dataframe tbody tr th:only-of-type {\n",
       "        vertical-align: middle;\n",
       "    }\n",
       "\n",
       "    .dataframe tbody tr th {\n",
       "        vertical-align: top;\n",
       "    }\n",
       "\n",
       "    .dataframe thead th {\n",
       "        text-align: right;\n",
       "    }\n",
       "</style>\n",
       "<table border=\"1\" class=\"dataframe\">\n",
       "  <thead>\n",
       "    <tr style=\"text-align: right;\">\n",
       "      <th></th>\n",
       "      <th>내용</th>\n",
       "      <th>Date</th>\n",
       "      <th>KOSPI</th>\n",
       "      <th>yesterdayup_down</th>\n",
       "      <th>KOSPI_shift_mean</th>\n",
       "      <th>updown</th>\n",
       "      <th>label</th>\n",
       "    </tr>\n",
       "  </thead>\n",
       "  <tbody>\n",
       "    <tr>\n",
       "      <th>0</th>\n",
       "      <td>투자자라면 꼭 봐야 할 오늘의 10대 투자뉴스-4일 \\n문형표 국민연금공단 이사장...</td>\n",
       "      <td>2016-01-04</td>\n",
       "      <td>1918.760010</td>\n",
       "      <td>1</td>\n",
       "      <td>1892.893994</td>\n",
       "      <td>-25.866016</td>\n",
       "      <td>0</td>\n",
       "    </tr>\n",
       "    <tr>\n",
       "      <th>1</th>\n",
       "      <td>중국 증시 폭락, 한국 영향은?...1월 8일 중국 대주주 매도제한 해제 주목 \\...</td>\n",
       "      <td>2016-01-05</td>\n",
       "      <td>1930.530029</td>\n",
       "      <td>0</td>\n",
       "      <td>1892.650000</td>\n",
       "      <td>-37.880029</td>\n",
       "      <td>0</td>\n",
       "    </tr>\n",
       "  </tbody>\n",
       "</table>\n",
       "</div>"
      ],
      "text/plain": [
       "                                                  내용        Date        KOSPI  \\\n",
       "0   투자자라면 꼭 봐야 할 오늘의 10대 투자뉴스-4일 \\n문형표 국민연금공단 이사장...  2016-01-04  1918.760010   \n",
       "1   중국 증시 폭락, 한국 영향은?...1월 8일 중국 대주주 매도제한 해제 주목 \\...  2016-01-05  1930.530029   \n",
       "\n",
       "   yesterdayup_down  KOSPI_shift_mean     updown  label  \n",
       "0                 1       1892.893994 -25.866016      0  \n",
       "1                 0       1892.650000 -37.880029      0  "
      ]
     },
     "execution_count": 5,
     "metadata": {},
     "output_type": "execute_result"
    }
   ],
   "source": [
    "train.head(2)"
   ]
  },
  {
   "cell_type": "markdown",
   "id": "97091fef-1376-40f3-b11f-5caffa847697",
   "metadata": {},
   "source": [
    "### 형태소 추출"
   ]
  },
  {
   "cell_type": "code",
   "execution_count": 34,
   "id": "3a377bdb-e9ee-499e-842b-b95fb7f81da0",
   "metadata": {},
   "outputs": [],
   "source": [
    "train[\"내용\"]=pd.Series(map(lambda x:\" \".join(mecab.nouns(x)) ,train[\"내용\"]))"
   ]
  },
  {
   "cell_type": "code",
   "execution_count": 35,
   "id": "d22ccc6f-383b-4736-92e4-7cf7d856d0ed",
   "metadata": {},
   "outputs": [
    {
     "data": {
      "text/html": [
       "<div>\n",
       "<style scoped>\n",
       "    .dataframe tbody tr th:only-of-type {\n",
       "        vertical-align: middle;\n",
       "    }\n",
       "\n",
       "    .dataframe tbody tr th {\n",
       "        vertical-align: top;\n",
       "    }\n",
       "\n",
       "    .dataframe thead th {\n",
       "        text-align: right;\n",
       "    }\n",
       "</style>\n",
       "<table border=\"1\" class=\"dataframe\">\n",
       "  <thead>\n",
       "    <tr style=\"text-align: right;\">\n",
       "      <th></th>\n",
       "      <th>내용</th>\n",
       "      <th>Date</th>\n",
       "      <th>KOSPI</th>\n",
       "      <th>yesterdayup_down</th>\n",
       "      <th>KOSPI_shift_mean</th>\n",
       "      <th>updown</th>\n",
       "      <th>label</th>\n",
       "    </tr>\n",
       "  </thead>\n",
       "  <tbody>\n",
       "    <tr>\n",
       "      <th>0</th>\n",
       "      <td>투자자 투자 뉴스 일 문형 표 국민 연금 공단 이사장 지난달 일 취임식 참석 국민 ...</td>\n",
       "      <td>2016-01-04</td>\n",
       "      <td>1918.760010</td>\n",
       "      <td>1</td>\n",
       "      <td>1892.893994</td>\n",
       "      <td>-25.866016</td>\n",
       "      <td>0</td>\n",
       "    </tr>\n",
       "    <tr>\n",
       "      <th>1</th>\n",
       "      <td>중국 증시 폭락 한국 영향 월 일 중국 대주주 매도 해제 주목 중국 증시 폭락 한국...</td>\n",
       "      <td>2016-01-05</td>\n",
       "      <td>1930.530029</td>\n",
       "      <td>0</td>\n",
       "      <td>1892.650000</td>\n",
       "      <td>-37.880029</td>\n",
       "      <td>0</td>\n",
       "    </tr>\n",
       "    <tr>\n",
       "      <th>2</th>\n",
       "      <td>연초 체면 증권사 美 제조업 지수 년 만 최저 선진국 경제 개장 전 심리 확산 저점...</td>\n",
       "      <td>2016-01-06</td>\n",
       "      <td>1925.430054</td>\n",
       "      <td>0</td>\n",
       "      <td>1878.483984</td>\n",
       "      <td>-46.946070</td>\n",
       "      <td>0</td>\n",
       "    </tr>\n",
       "    <tr>\n",
       "      <th>3</th>\n",
       "      <td>충격 악재 불안 고조 충격 악재 불안 고조 증시 北 수소탄 실험 코스피 폭락 우려 ...</td>\n",
       "      <td>2016-01-07</td>\n",
       "      <td>1904.329956</td>\n",
       "      <td>1</td>\n",
       "      <td>1866.587988</td>\n",
       "      <td>-37.741968</td>\n",
       "      <td>0</td>\n",
       "    </tr>\n",
       "    <tr>\n",
       "      <th>4</th>\n",
       "      <td>굿모닝 증시 中 증시 몸살 코스피 아시아 경제 최동현 기자 연초 코스피 중국 증시 ...</td>\n",
       "      <td>2016-01-08</td>\n",
       "      <td>1917.619995</td>\n",
       "      <td>0</td>\n",
       "      <td>1866.700000</td>\n",
       "      <td>-50.919995</td>\n",
       "      <td>0</td>\n",
       "    </tr>\n",
       "    <tr>\n",
       "      <th>...</th>\n",
       "      <td>...</td>\n",
       "      <td>...</td>\n",
       "      <td>...</td>\n",
       "      <td>...</td>\n",
       "      <td>...</td>\n",
       "      <td>...</td>\n",
       "      <td>...</td>\n",
       "    </tr>\n",
       "    <tr>\n",
       "      <th>1693</th>\n",
       "      <td>적금 채권 선순위 반도체 株 주목 부동산 경매 노크 웰스 매니저 재테크 전망 주간 ...</td>\n",
       "      <td>2022-11-28</td>\n",
       "      <td>2408.270020</td>\n",
       "      <td>1</td>\n",
       "      <td>2381.822022</td>\n",
       "      <td>-26.447998</td>\n",
       "      <td>0</td>\n",
       "    </tr>\n",
       "    <tr>\n",
       "      <th>1694</th>\n",
       "      <td>고령 시대 효자 월 배당 주목 오늘 투자 전략 코스피 내외 하락 출발 전망 대형주 ...</td>\n",
       "      <td>2022-11-29</td>\n",
       "      <td>2433.389893</td>\n",
       "      <td>1</td>\n",
       "      <td>2377.670020</td>\n",
       "      <td>-55.719873</td>\n",
       "      <td>0</td>\n",
       "    </tr>\n",
       "    <tr>\n",
       "      <th>1695</th>\n",
       "      <td>월 증시 브레이크 데일리 김인경 기자 월 달 동안 미국 금리 인상 속도 조절 부상 ...</td>\n",
       "      <td>2022-11-30</td>\n",
       "      <td>2472.530029</td>\n",
       "      <td>1</td>\n",
       "      <td>2380.958008</td>\n",
       "      <td>-91.572021</td>\n",
       "      <td>0</td>\n",
       "    </tr>\n",
       "    <tr>\n",
       "      <th>1696</th>\n",
       "      <td>월 증시 산타랠리 가능 기사 내용 요약 지난달 코스피 경계 제한 상승 전망 서울 뉴...</td>\n",
       "      <td>2022-12-01</td>\n",
       "      <td>2479.840088</td>\n",
       "      <td>0</td>\n",
       "      <td>2378.935986</td>\n",
       "      <td>-100.904102</td>\n",
       "      <td>0</td>\n",
       "    </tr>\n",
       "    <tr>\n",
       "      <th>1697</th>\n",
       "      <td>파월 한마디 훈풍 랠리 시작 연말 증시 수익 안정 가치주 장세 뉴딜 지수 긴축 완화...</td>\n",
       "      <td>2022-12-02</td>\n",
       "      <td>2434.330078</td>\n",
       "      <td>0</td>\n",
       "      <td>2371.357959</td>\n",
       "      <td>-62.972119</td>\n",
       "      <td>0</td>\n",
       "    </tr>\n",
       "  </tbody>\n",
       "</table>\n",
       "<p>1698 rows × 7 columns</p>\n",
       "</div>"
      ],
      "text/plain": [
       "                                                     내용        Date  \\\n",
       "0     투자자 투자 뉴스 일 문형 표 국민 연금 공단 이사장 지난달 일 취임식 참석 국민 ...  2016-01-04   \n",
       "1     중국 증시 폭락 한국 영향 월 일 중국 대주주 매도 해제 주목 중국 증시 폭락 한국...  2016-01-05   \n",
       "2     연초 체면 증권사 美 제조업 지수 년 만 최저 선진국 경제 개장 전 심리 확산 저점...  2016-01-06   \n",
       "3     충격 악재 불안 고조 충격 악재 불안 고조 증시 北 수소탄 실험 코스피 폭락 우려 ...  2016-01-07   \n",
       "4     굿모닝 증시 中 증시 몸살 코스피 아시아 경제 최동현 기자 연초 코스피 중국 증시 ...  2016-01-08   \n",
       "...                                                 ...         ...   \n",
       "1693  적금 채권 선순위 반도체 株 주목 부동산 경매 노크 웰스 매니저 재테크 전망 주간 ...  2022-11-28   \n",
       "1694  고령 시대 효자 월 배당 주목 오늘 투자 전략 코스피 내외 하락 출발 전망 대형주 ...  2022-11-29   \n",
       "1695  월 증시 브레이크 데일리 김인경 기자 월 달 동안 미국 금리 인상 속도 조절 부상 ...  2022-11-30   \n",
       "1696  월 증시 산타랠리 가능 기사 내용 요약 지난달 코스피 경계 제한 상승 전망 서울 뉴...  2022-12-01   \n",
       "1697  파월 한마디 훈풍 랠리 시작 연말 증시 수익 안정 가치주 장세 뉴딜 지수 긴축 완화...  2022-12-02   \n",
       "\n",
       "            KOSPI  yesterdayup_down  KOSPI_shift_mean      updown  label  \n",
       "0     1918.760010                 1       1892.893994  -25.866016      0  \n",
       "1     1930.530029                 0       1892.650000  -37.880029      0  \n",
       "2     1925.430054                 0       1878.483984  -46.946070      0  \n",
       "3     1904.329956                 1       1866.587988  -37.741968      0  \n",
       "4     1917.619995                 0       1866.700000  -50.919995      0  \n",
       "...           ...               ...               ...         ...    ...  \n",
       "1693  2408.270020                 1       2381.822022  -26.447998      0  \n",
       "1694  2433.389893                 1       2377.670020  -55.719873      0  \n",
       "1695  2472.530029                 1       2380.958008  -91.572021      0  \n",
       "1696  2479.840088                 0       2378.935986 -100.904102      0  \n",
       "1697  2434.330078                 0       2371.357959  -62.972119      0  \n",
       "\n",
       "[1698 rows x 7 columns]"
      ]
     },
     "execution_count": 35,
     "metadata": {},
     "output_type": "execute_result"
    }
   ],
   "source": [
    "train"
   ]
  },
  {
   "cell_type": "code",
   "execution_count": 39,
   "id": "3919064b-7388-4e4b-95a7-23f8d7eb32f4",
   "metadata": {},
   "outputs": [],
   "source": [
    "train=train.iloc[:1200]"
   ]
  },
  {
   "cell_type": "markdown",
   "id": "b453b6f9-aef8-4552-a4fb-b05be8954e23",
   "metadata": {},
   "source": [
    "### X  Y  train val 분리, test셋 정답지 분리"
   ]
  },
  {
   "cell_type": "code",
   "execution_count": 49,
   "id": "d42e386f-2400-49e6-ae66-d89cf86d7291",
   "metadata": {},
   "outputs": [],
   "source": [
    "X_m_t=train[\"내용\"]\n",
    "Y_m_t=train[\"label\"]\n",
    "x_train_m, x_val_m, y_train_m, y_val_m=train_test_split(X_m_t,Y_m_t,test_size=0.2,random_state=42)"
   ]
  },
  {
   "cell_type": "code",
   "execution_count": 42,
   "id": "41926a9f-ea73-4f51-b3a4-fd4cdff4a6b1",
   "metadata": {},
   "outputs": [
    {
     "data": {
      "text/html": [
       "<div>\n",
       "<style scoped>\n",
       "    .dataframe tbody tr th:only-of-type {\n",
       "        vertical-align: middle;\n",
       "    }\n",
       "\n",
       "    .dataframe tbody tr th {\n",
       "        vertical-align: top;\n",
       "    }\n",
       "\n",
       "    .dataframe thead th {\n",
       "        text-align: right;\n",
       "    }\n",
       "</style>\n",
       "<table border=\"1\" class=\"dataframe\">\n",
       "  <thead>\n",
       "    <tr style=\"text-align: right;\">\n",
       "      <th></th>\n",
       "      <th>내용</th>\n",
       "      <th>Date</th>\n",
       "      <th>KOSPI</th>\n",
       "      <th>yesterdayup_down</th>\n",
       "      <th>KOSPI_shift_mean</th>\n",
       "      <th>updown</th>\n",
       "      <th>label</th>\n",
       "    </tr>\n",
       "  </thead>\n",
       "  <tbody>\n",
       "    <tr>\n",
       "      <th>0</th>\n",
       "      <td>투자자 투자 뉴스 일 문형 표 국민 연금 공단 이사장 지난달 일 취임식 참석 국민 ...</td>\n",
       "      <td>2016-01-04</td>\n",
       "      <td>1918.760010</td>\n",
       "      <td>1</td>\n",
       "      <td>1892.893994</td>\n",
       "      <td>-25.866016</td>\n",
       "      <td>0</td>\n",
       "    </tr>\n",
       "    <tr>\n",
       "      <th>1</th>\n",
       "      <td>중국 증시 폭락 한국 영향 월 일 중국 대주주 매도 해제 주목 중국 증시 폭락 한국...</td>\n",
       "      <td>2016-01-05</td>\n",
       "      <td>1930.530029</td>\n",
       "      <td>0</td>\n",
       "      <td>1892.650000</td>\n",
       "      <td>-37.880029</td>\n",
       "      <td>0</td>\n",
       "    </tr>\n",
       "  </tbody>\n",
       "</table>\n",
       "</div>"
      ],
      "text/plain": [
       "                                                  내용        Date        KOSPI  \\\n",
       "0  투자자 투자 뉴스 일 문형 표 국민 연금 공단 이사장 지난달 일 취임식 참석 국민 ...  2016-01-04  1918.760010   \n",
       "1  중국 증시 폭락 한국 영향 월 일 중국 대주주 매도 해제 주목 중국 증시 폭락 한국...  2016-01-05  1930.530029   \n",
       "\n",
       "   yesterdayup_down  KOSPI_shift_mean     updown  label  \n",
       "0                 1       1892.893994 -25.866016      0  \n",
       "1                 0       1892.650000 -37.880029      0  "
      ]
     },
     "execution_count": 42,
     "metadata": {},
     "output_type": "execute_result"
    }
   ],
   "source": [
    "train.head(2)"
   ]
  },
  {
   "cell_type": "markdown",
   "id": "2e5bdbd0-7604-4a11-b8f3-c46739c1a9e5",
   "metadata": {
    "tags": []
   },
   "source": [
    "## N-gram vectorize"
   ]
  },
  {
   "cell_type": "code",
   "execution_count": 51,
   "id": "51a99df1-08a3-4774-a6db-a8e39e08d31c",
   "metadata": {},
   "outputs": [],
   "source": [
    "from sklearn.feature_extraction.text import TfidfVectorizer\n",
    "from sklearn.feature_selection import SelectKBest\n",
    "from sklearn.feature_selection import f_classif\n",
    "\n",
    "NGRAM_RANGE = (1, 4) # 주변 요소 묶어서 분석 (1,4)->4개까지 묶어서 분석\n",
    "TOP_K = 20000 # 최대 토큰 개수\n",
    "TOKEN_MODE = 'word' #word 단어단위분석 char 문자단위분석\n",
    "MIN_DOCUMENT_FREQUENCY = 4 #뭐지?\n",
    "\n",
    "def ngram_vectorize(train_texts, train_labels, val_texts):\n",
    "\n",
    "    kwargs = {\n",
    "            'ngram_range': NGRAM_RANGE,  \n",
    "            'dtype': 'int32',\n",
    "            'strip_accents': 'unicode',\n",
    "            'decode_error': 'replace',\n",
    "            'analyzer': TOKEN_MODE, \n",
    "            'min_df': MIN_DOCUMENT_FREQUENCY,\n",
    "    }\n",
    "    vectorizer = TfidfVectorizer(**kwargs)\n",
    "    x_train = vectorizer.fit_transform(train_texts)\n",
    "    x_val = vectorizer.transform(val_texts)\n",
    "    selector = SelectKBest(f_classif, k=min(TOP_K, x_train.shape[1]))\n",
    "    selector.fit(x_train, train_labels)\n",
    "    x_train = selector.transform(x_train).astype('float32')\n",
    "    x_val = selector.transform(x_val).astype('float32')\n",
    "    return x_train, x_val"
   ]
  },
  {
   "cell_type": "markdown",
   "id": "fc78bd08-d14b-4ecc-aa61-a79a9c67a2c3",
   "metadata": {
    "tags": []
   },
   "source": [
    "#### 형태소 추출 데이터 N-gram vectorize (test셋 추출용)"
   ]
  },
  {
   "cell_type": "code",
   "execution_count": 52,
   "id": "f1d163d6-e339-4bae-bb8b-7cd6ad956134",
   "metadata": {},
   "outputs": [
    {
     "name": "stderr",
     "output_type": "stream",
     "text": [
      "C:\\Users\\DM\\anaconda3\\envs\\mecab\\lib\\site-packages\\sklearn\\feature_extraction\\text.py:2060: UserWarning: Only (<class 'numpy.float64'>, <class 'numpy.float32'>, <class 'numpy.float16'>) 'dtype' should be used. int32 'dtype' will be converted to np.float64.\n",
      "  warnings.warn(\n"
     ]
    }
   ],
   "source": [
    "NGRAM_RANGE = (1, 4)\n",
    "TOKEN_MODE = 'word'\n",
    "MIN_DOCUMENT_FREQUENCY = 2\n",
    "TOP_K = 20000\n",
    "x_train_m_ngr,x_test_m_ngr=ngram_vectorize(x_train_m,y_train_m,X_m_t)"
   ]
  },
  {
   "cell_type": "markdown",
   "id": "cb7904ab-0252-4152-ad64-69f421c3a3ce",
   "metadata": {
    "tags": []
   },
   "source": [
    "## deeplearning 함수 단순 레이어쌓기"
   ]
  },
  {
   "cell_type": "code",
   "execution_count": 53,
   "id": "e348f3a9-3335-4260-a6d6-40a9dd6416e4",
   "metadata": {},
   "outputs": [],
   "source": [
    "from tensorflow.keras import models\n",
    "from tensorflow.keras.layers import Dense\n",
    "from tensorflow.keras.layers import Dropout\n",
    "\n",
    "import tensorflow as tf\n",
    "\n",
    "\n",
    "def mlp_model(layers, units, dropout_rate, input_shape, num_classes):\n",
    "    op_units, op_activation = 1,'sigmoid'\n",
    "    tf.random.set_seed(42)\n",
    "    model = models.Sequential()\n",
    "    model.add(Dropout(rate=dropout_rate, input_shape=input_shape))\n",
    "\n",
    "    for _ in range(layers-1):\n",
    "        model.add(Dense(units=units, activation='relu'))\n",
    "        model.add(Dropout(rate=dropout_rate))\n",
    "\n",
    "    model.add(Dense(units=op_units,activation=op_activation))\n",
    "    return model"
   ]
  },
  {
   "cell_type": "markdown",
   "id": "385a9a47-65cb-4357-9a10-d0db5ff21375",
   "metadata": {
    "tags": []
   },
   "source": [
    "## 학습모델 설계"
   ]
  },
  {
   "cell_type": "code",
   "execution_count": 56,
   "id": "c737aeda-5b27-4173-9a96-22e018db7a2b",
   "metadata": {
    "tags": []
   },
   "outputs": [],
   "source": [
    "def train_ngram_model(data,\n",
    "                      learning_rate=1e-2,\n",
    "                      epochs=1000,\n",
    "                      batch_size=64,\n",
    "                      layers=4,\n",
    "                      units=128,\n",
    "                      dropout_rate=0.5):\n",
    "\n",
    "    (train_texts, train_labels), (val_texts, val_labels) = data\n",
    "    num_classes = 2\n",
    "    unexpected_labels = [v for v in val_labels if v not in range(num_classes)]\n",
    "    if len(unexpected_labels):\n",
    "        raise ValueError('Unexpected label values found in the validation set:'\n",
    "                         ' {unexpected_labels}. Please make sure that the '\n",
    "                         'labels in the validation set are in the same range '\n",
    "                         'as training labels.'.format(\n",
    "                             unexpected_labels=unexpected_labels))\n",
    "\n",
    "\n",
    "    x_train, x_val = ngram_vectorize(\n",
    "        train_texts, train_labels, val_texts)\n",
    "    x_train=x_train.toarray()\n",
    "    x_val=x_val.toarray()\n",
    "\n",
    "    model = mlp_model(layers=layers,\n",
    "                                  units=units,\n",
    "                                  dropout_rate=dropout_rate,\n",
    "                                  input_shape=x_train.shape[1:],\n",
    "                                  num_classes=num_classes)\n",
    "\n",
    "\n",
    "    if num_classes == 2:\n",
    "        loss = 'binary_crossentropy'\n",
    "    else:\n",
    "        loss = 'sparse_categorical_crossentropy'\n",
    "    optimizers = tf.keras.optimizers.Adam(learning_rate=learning_rate)\n",
    "    model.compile(optimizer=optimizers, loss=loss, metrics=['acc'])\n",
    "\n",
    "    callbacks = [tf.keras.callbacks.EarlyStopping(\n",
    "        monitor='val_loss', patience=2)]\n",
    "\n",
    "    history = model.fit(\n",
    "            x_train,\n",
    "            train_labels,\n",
    "            epochs=epochs,\n",
    "            callbacks=callbacks,\n",
    "            validation_data=(x_val, val_labels),\n",
    "            verbose=2, \n",
    "            batch_size=batch_size)\n",
    "\n",
    "    history = history.history\n",
    "    print('Validation accuracy: {acc}, loss: {loss}'.format(\n",
    "            acc=history['val_acc'][-1], loss=history['val_loss'][-1]))\n",
    "    \n",
    "    model.fit(x_train,train_labels)\n",
    "              \n",
    "    # pred = model.predict(a)\n",
    "    pred=0\n",
    "    model.save('IMDb_mlp_model.h5')\n",
    "    tf.keras.utils.plot_model(model, show_shapes=True)\n",
    "    return history['val_acc'][-1], history['val_loss'][-1],pred\n",
    "    # return 1,2,pred"
   ]
  },
  {
   "cell_type": "code",
   "execution_count": 58,
   "id": "b06e79ca-d139-4f69-9910-046e7cbe9b50",
   "metadata": {},
   "outputs": [
    {
     "name": "stderr",
     "output_type": "stream",
     "text": [
      "C:\\Users\\DM\\anaconda3\\envs\\mecab\\lib\\site-packages\\sklearn\\feature_extraction\\text.py:2060: UserWarning: Only (<class 'numpy.float64'>, <class 'numpy.float32'>, <class 'numpy.float16'>) 'dtype' should be used. int32 'dtype' will be converted to np.float64.\n",
      "  warnings.warn(\n"
     ]
    },
    {
     "name": "stdout",
     "output_type": "stream",
     "text": [
      "Epoch 1/1000\n",
      "15/15 - 1s - loss: 0.6974 - acc: 0.5302 - val_loss: 0.6880 - val_acc: 0.5250 - 1s/epoch - 91ms/step\n",
      "Epoch 2/1000\n",
      "15/15 - 1s - loss: 0.7026 - acc: 0.5521 - val_loss: 0.6802 - val_acc: 0.5708 - 660ms/epoch - 44ms/step\n",
      "Epoch 3/1000\n",
      "15/15 - 1s - loss: 0.6766 - acc: 0.5792 - val_loss: 0.6807 - val_acc: 0.5208 - 683ms/epoch - 46ms/step\n",
      "Epoch 4/1000\n",
      "15/15 - 1s - loss: 0.6396 - acc: 0.6073 - val_loss: 0.6636 - val_acc: 0.5917 - 676ms/epoch - 45ms/step\n",
      "Epoch 5/1000\n",
      "15/15 - 1s - loss: 0.6042 - acc: 0.6802 - val_loss: 0.6632 - val_acc: 0.5542 - 660ms/epoch - 44ms/step\n",
      "Epoch 6/1000\n",
      "15/15 - 1s - loss: 0.5349 - acc: 0.7531 - val_loss: 0.6491 - val_acc: 0.5917 - 677ms/epoch - 45ms/step\n",
      "Epoch 7/1000\n",
      "15/15 - 1s - loss: 0.4739 - acc: 0.7927 - val_loss: 0.6601 - val_acc: 0.6083 - 662ms/epoch - 44ms/step\n",
      "Epoch 8/1000\n",
      "15/15 - 1s - loss: 0.4303 - acc: 0.7948 - val_loss: 0.6569 - val_acc: 0.6250 - 649ms/epoch - 43ms/step\n",
      "Validation accuracy: 0.625, loss: 0.6569452881813049\n",
      "30/30 [==============================] - 1s 33ms/step - loss: 0.3406 - acc: 0.8552\n",
      "You must install pydot (`pip install pydot`) and install graphviz (see instructions at https://graphviz.gitlab.io/download/) for plot_model to work.\n"
     ]
    }
   ],
   "source": [
    "TOKEN_MODE = 'word'\n",
    "NGRAM_RANGE = (1, 4)\n",
    "MIN_DOCUMENT_FREQUENCY = 2\n",
    "TOP_K = 20000\n",
    "a,b,pred1=train_ngram_model(([(x_train_m,y_train_m),(x_val_m,y_val_m)]),dropout_rate=0.80,layers=3)"
   ]
  },
  {
   "cell_type": "code",
   "execution_count": 22,
   "id": "f3734a5c-ca0f-4435-b02e-5f6a33061df6",
   "metadata": {},
   "outputs": [
    {
     "name": "stdout",
     "output_type": "stream",
     "text": [
      "54/54 [==============================] - 0s 5ms/step\n"
     ]
    }
   ],
   "source": [
    "from keras.models import load_model\n",
    "model = load_model('자연어처리 모델.h5')\n",
    "pred=model.predict(x_test_m_ngr)"
   ]
  },
  {
   "cell_type": "code",
   "execution_count": 25,
   "id": "6102f116-a86f-4313-8913-2f5738a59e9d",
   "metadata": {},
   "outputs": [],
   "source": [
    "pd.DataFrame(pred).to_csv(\"자연어학습결과.csv\",index=False)"
   ]
  },
  {
   "cell_type": "code",
   "execution_count": null,
   "id": "8bc624a9-bc4f-4332-89c1-fdf519c2df50",
   "metadata": {},
   "outputs": [],
   "source": []
  }
 ],
 "metadata": {
  "kernelspec": {
   "display_name": "mecab",
   "language": "python",
   "name": "mecab"
  },
  "language_info": {
   "codemirror_mode": {
    "name": "ipython",
    "version": 3
   },
   "file_extension": ".py",
   "mimetype": "text/x-python",
   "name": "python",
   "nbconvert_exporter": "python",
   "pygments_lexer": "ipython3",
   "version": "3.8.0"
  }
 },
 "nbformat": 4,
 "nbformat_minor": 5
}
