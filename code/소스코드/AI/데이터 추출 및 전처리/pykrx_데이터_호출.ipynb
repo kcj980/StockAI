{
 "cells": [
  {
   "cell_type": "markdown",
   "metadata": {
    "id": "R2W7y76rnEbe"
   },
   "source": []
  },
  {
   "cell_type": "code",
   "execution_count": null,
   "metadata": {
    "id": "AyqbMR-eracj"
   },
   "outputs": [],
   "source": [
    "!pip install pykrx"
   ]
  },
  {
   "cell_type": "code",
   "execution_count": 1,
   "metadata": {
    "id": "nGDBnmu_rjcp"
   },
   "outputs": [],
   "source": [
    "import pandas as pd\n",
    "import numpy as np\n",
    "import matplotlib.pyplot as plt\n",
    "import time\n",
    "from pykrx import stock\n",
    "import seaborn as sns\n",
    "import matplotlib.pyplot as plt"
   ]
  },
  {
   "cell_type": "code",
   "execution_count": 11,
   "metadata": {
    "id": "w3KDlRlarjrG"
   },
   "outputs": [],
   "source": [
    "start = '2012-01-01'\n",
    "end = '2022-12-26'\n",
    "path = 'data/'"
   ]
  },
  {
   "cell_type": "code",
   "execution_count": 3,
   "metadata": {
    "collapsed": true,
    "id": "YeiqwukiDbDj",
    "jupyter": {
     "outputs_hidden": true
    },
    "tags": []
   },
   "outputs": [
    {
     "data": {
      "text/plain": [
       "['005930',\n",
       " '373220',\n",
       " '207940',\n",
       " '000660',\n",
       " '006400',\n",
       " '051910',\n",
       " '005935',\n",
       " '005380',\n",
       " '035420',\n",
       " '000270',\n",
       " '068270',\n",
       " '035720',\n",
       " '005490',\n",
       " '028260',\n",
       " '105560',\n",
       " '012330',\n",
       " '055550',\n",
       " '003670',\n",
       " '034730',\n",
       " '096770',\n",
       " '066570',\n",
       " '032830',\n",
       " '033780',\n",
       " '086790',\n",
       " '323410',\n",
       " '003550',\n",
       " '015760',\n",
       " '010130',\n",
       " '017670',\n",
       " '051900',\n",
       " '329180',\n",
       " '036570',\n",
       " '091990',\n",
       " '011200',\n",
       " '009150',\n",
       " '034020',\n",
       " '247540',\n",
       " '030200',\n",
       " '018260',\n",
       " '000810',\n",
       " '003490',\n",
       " '010950',\n",
       " '009830',\n",
       " '316140',\n",
       " '259960',\n",
       " '377300',\n",
       " '024110',\n",
       " '090430',\n",
       " '066970',\n",
       " '011170',\n",
       " '011070',\n",
       " '302440',\n",
       " '086280',\n",
       " '352820',\n",
       " '383220',\n",
       " '097950',\n",
       " '326030',\n",
       " '035250',\n",
       " '032640',\n",
       " '009540',\n",
       " '000060',\n",
       " '402340',\n",
       " '267250',\n",
       " '034220',\n",
       " '138040',\n",
       " '018880',\n",
       " '088980',\n",
       " '271560',\n",
       " '028050',\n",
       " '361610',\n",
       " '047810',\n",
       " '010140',\n",
       " '251270',\n",
       " '000100',\n",
       " '005830',\n",
       " '000720',\n",
       " '021240',\n",
       " '004020',\n",
       " '078930',\n",
       " '011780',\n",
       " '161390',\n",
       " '011790',\n",
       " '006800',\n",
       " '029780',\n",
       " '008560',\n",
       " '282330',\n",
       " '241560',\n",
       " '293490',\n",
       " '004990',\n",
       " '137310',\n",
       " '028300',\n",
       " '012450',\n",
       " '010620',\n",
       " '128940',\n",
       " '071050',\n",
       " '005940',\n",
       " '036460',\n",
       " '007070',\n",
       " '016360',\n",
       " '008770']"
      ]
     },
     "execution_count": 3,
     "metadata": {},
     "output_type": "execute_result"
    }
   ],
   "source": [
    "# 상위 100개 종목 티커값\n",
    "df_raw = stock.get_market_cap_by_ticker(\"20221208\", market=\"ALL\", acending=False)\n",
    "df_raw.reset_index(inplace=True)\n",
    "df_ls = df_raw['티커'].values.tolist()\n",
    "df_decended = []\n",
    "\n",
    "for i in range(0, 100):\n",
    "    df_decended.append(df_ls[i])\n",
    "\n",
    "df_decended"
   ]
  },
  {
   "cell_type": "code",
   "execution_count": 4,
   "metadata": {
    "id": "8fBEH-hbntU8"
   },
   "outputs": [],
   "source": [
    "df_name = []"
   ]
  },
  {
   "cell_type": "code",
   "execution_count": 5,
   "metadata": {
    "id": "pIkfkcqBkv-t"
   },
   "outputs": [],
   "source": [
    "for i in range(0, 100):\n",
    "    df_name.append(stock.get_market_ticker_name(df_decended[i]))"
   ]
  },
  {
   "cell_type": "code",
   "execution_count": 6,
   "metadata": {
    "collapsed": true,
    "id": "tavqkLKVk7la",
    "jupyter": {
     "outputs_hidden": true
    },
    "tags": []
   },
   "outputs": [
    {
     "data": {
      "text/plain": [
       "['삼성전자',\n",
       " 'LG에너지솔루션',\n",
       " '삼성바이오로직스',\n",
       " 'SK하이닉스',\n",
       " '삼성SDI',\n",
       " 'LG화학',\n",
       " '삼성전자우',\n",
       " '현대차',\n",
       " 'NAVER',\n",
       " '기아',\n",
       " '셀트리온',\n",
       " '카카오',\n",
       " 'POSCO홀딩스',\n",
       " '삼성물산',\n",
       " 'KB금융',\n",
       " '현대모비스',\n",
       " '신한지주',\n",
       " '포스코케미칼',\n",
       " 'SK',\n",
       " 'SK이노베이션',\n",
       " 'LG전자',\n",
       " '삼성생명',\n",
       " 'KT&G',\n",
       " '하나금융지주',\n",
       " '카카오뱅크',\n",
       " 'LG',\n",
       " '한국전력',\n",
       " '고려아연',\n",
       " 'SK텔레콤',\n",
       " 'LG생활건강',\n",
       " '현대중공업',\n",
       " '엔씨소프트',\n",
       " '셀트리온헬스케어',\n",
       " 'HMM',\n",
       " '삼성전기',\n",
       " '두산에너빌리티',\n",
       " '에코프로비엠',\n",
       " 'KT',\n",
       " '삼성에스디에스',\n",
       " '삼성화재',\n",
       " '대한항공',\n",
       " 'S-Oil',\n",
       " '한화솔루션',\n",
       " '우리금융지주',\n",
       " '크래프톤',\n",
       " '카카오페이',\n",
       " '기업은행',\n",
       " '아모레퍼시픽',\n",
       " '엘앤에프',\n",
       " '롯데케미칼',\n",
       " 'LG이노텍',\n",
       " 'SK바이오사이언스',\n",
       " '현대글로비스',\n",
       " '하이브',\n",
       " 'F&F',\n",
       " 'CJ제일제당',\n",
       " 'SK바이오팜',\n",
       " '강원랜드',\n",
       " 'LG유플러스',\n",
       " '한국조선해양',\n",
       " '메리츠화재',\n",
       " 'SK스퀘어',\n",
       " 'HD현대',\n",
       " 'LG디스플레이',\n",
       " '메리츠금융지주',\n",
       " '한온시스템',\n",
       " '맥쿼리인프라',\n",
       " '오리온',\n",
       " '삼성엔지니어링',\n",
       " 'SK아이이테크놀로지',\n",
       " '한국항공우주',\n",
       " '삼성중공업',\n",
       " '넷마블',\n",
       " '유한양행',\n",
       " 'DB손해보험',\n",
       " '현대건설',\n",
       " '코웨이',\n",
       " '현대제철',\n",
       " 'GS',\n",
       " '금호석유',\n",
       " '한국타이어앤테크놀로지',\n",
       " 'SKC',\n",
       " '미래에셋증권',\n",
       " '삼성카드',\n",
       " '메리츠증권',\n",
       " 'BGF리테일',\n",
       " '두산밥캣',\n",
       " '카카오게임즈',\n",
       " '롯데지주',\n",
       " '에스디바이오센서',\n",
       " 'HLB',\n",
       " '한화에어로스페이스',\n",
       " '현대미포조선',\n",
       " '한미약품',\n",
       " '한국금융지주',\n",
       " 'NH투자증권',\n",
       " '한국가스공사',\n",
       " 'GS리테일',\n",
       " '삼성증권',\n",
       " '호텔신라']"
      ]
     },
     "execution_count": 6,
     "metadata": {},
     "output_type": "execute_result"
    }
   ],
   "source": [
    "df_name"
   ]
  },
  {
   "cell_type": "code",
   "execution_count": 8,
   "metadata": {
    "collapsed": true,
    "id": "ZqP7gzfeDgSA",
    "jupyter": {
     "outputs_hidden": true
    },
    "tags": []
   },
   "outputs": [
    {
     "name": "stdout",
     "output_type": "stream",
     "text": [
      "삼성전자\n",
      "LG에너지솔루션\n",
      "삼성바이오로직스\n",
      "SK하이닉스\n",
      "삼성SDI\n",
      "LG화학\n",
      "삼성전자우\n",
      "현대차\n",
      "NAVER\n",
      "기아\n",
      "셀트리온\n",
      "카카오\n",
      "POSCO홀딩스\n",
      "삼성물산\n",
      "KB금융\n",
      "현대모비스\n",
      "신한지주\n",
      "포스코케미칼\n",
      "SK\n",
      "SK이노베이션\n",
      "LG전자\n",
      "삼성생명\n",
      "KT&G\n",
      "하나금융지주\n",
      "카카오뱅크\n",
      "LG\n",
      "한국전력\n",
      "고려아연\n",
      "SK텔레콤\n",
      "LG생활건강\n",
      "현대중공업\n",
      "엔씨소프트\n",
      "셀트리온헬스케어\n",
      "HMM\n",
      "삼성전기\n",
      "두산에너빌리티\n",
      "에코프로비엠\n",
      "KT\n",
      "삼성에스디에스\n",
      "삼성화재\n",
      "대한항공\n",
      "S-Oil\n",
      "한화솔루션\n",
      "우리금융지주\n",
      "크래프톤\n",
      "카카오페이\n",
      "기업은행\n",
      "아모레퍼시픽\n",
      "엘앤에프\n",
      "롯데케미칼\n",
      "LG이노텍\n",
      "SK바이오사이언스\n",
      "현대글로비스\n",
      "하이브\n",
      "F&F\n",
      "CJ제일제당\n",
      "SK바이오팜\n",
      "강원랜드\n",
      "LG유플러스\n",
      "한국조선해양\n",
      "메리츠화재\n",
      "SK스퀘어\n",
      "HD현대\n",
      "LG디스플레이\n",
      "메리츠금융지주\n",
      "한온시스템\n",
      "맥쿼리인프라\n",
      "오리온\n",
      "삼성엔지니어링\n",
      "SK아이이테크놀로지\n",
      "한국항공우주\n",
      "삼성중공업\n",
      "넷마블\n",
      "유한양행\n",
      "DB손해보험\n",
      "현대건설\n",
      "코웨이\n",
      "현대제철\n",
      "GS\n",
      "금호석유\n",
      "한국타이어앤테크놀로지\n",
      "SKC\n",
      "미래에셋증권\n",
      "삼성카드\n",
      "메리츠증권\n",
      "BGF리테일\n",
      "두산밥캣\n",
      "카카오게임즈\n",
      "롯데지주\n",
      "에스디바이오센서\n",
      "HLB\n",
      "한화에어로스페이스\n",
      "현대미포조선\n",
      "한미약품\n",
      "한국금융지주\n",
      "NH투자증권\n",
      "한국가스공사\n",
      "GS리테일\n",
      "삼성증권\n",
      "호텔신라\n"
     ]
    }
   ],
   "source": [
    "def name_print(name):\n",
    "  print(stock.get_market_ticker_name(name))\n",
    "\n",
    "for s in df_decended:\n",
    "  name_print(s)"
   ]
  },
  {
   "cell_type": "code",
   "execution_count": 12,
   "metadata": {
    "id": "Oa6fW_0UItiJ"
   },
   "outputs": [],
   "source": [
    "def save_csv(start, end, ticker):\n",
    "    name = stock.get_market_ticker_name(ticker)\n",
    "    df1 = stock.get_market_ohlcv(start, end, ticker, \"d\")\n",
    "    time.sleep(1)\n",
    "    df2 = stock.get_market_trading_value_by_date(start, end, ticker)\n",
    "    time.sleep(1)\n",
    "    df3 = stock.get_shorting_volume_by_date(start, end, ticker)\n",
    "    time.sleep(1)\n",
    "    df_all = pd.concat([df1, df2, df3], axis=1)\n",
    "    df_all.to_csv(path+name+'.csv')"
   ]
  },
  {
   "cell_type": "code",
   "execution_count": 13,
   "metadata": {
    "id": "aIA67XrCOyEZ"
   },
   "outputs": [],
   "source": [
    "for s in df_decended:\n",
    "    save_csv(start, end, s)\n",
    "    time.sleep(3)\n"
   ]
  },
  {
   "cell_type": "code",
   "execution_count": 14,
   "metadata": {
    "id": "rQYlS36OpISa"
   },
   "outputs": [],
   "source": [
    "for s in df_decended: #파일 인코딩, \n",
    "    name = stock.get_market_ticker_name(s)\n",
    "    df = pd.read_csv(path+name+\".csv\")\n",
    "    df['종목코드'] = s\n",
    "    df.to_csv(path+name+\".csv\",encoding='cp949')\n",
    "  "
   ]
  },
  {
   "cell_type": "code",
   "execution_count": 15,
   "metadata": {
    "id": "I--SeZGs0J9E"
   },
   "outputs": [],
   "source": [
    "path2 = path"
   ]
  },
  {
   "cell_type": "code",
   "execution_count": 16,
   "metadata": {
    "id": "2MiP3HbYrSwd"
   },
   "outputs": [],
   "source": [
    "for s in df_decended: #파일 인코딩, 종목 코드 앞에 A 붙여서 저장하기\n",
    "    name = stock.get_market_ticker_name(s)\n",
    "    df = pd.read_csv(path+name+\".csv\",encoding='cp949',index_col = 0)\n",
    "    df.drop(columns=['전체','종목코드'], inplace=True)\n",
    "    df['종목코드'] = \"A\"+s\n",
    "    \n",
    "    df.to_csv(path2+name+\".csv\",encoding='cp949')"
   ]
  },
  {
   "cell_type": "code",
   "execution_count": 18,
   "metadata": {
    "id": "2MiP3HbYrSwd"
   },
   "outputs": [],
   "source": [
    "for s in df_decended: #파일 인코딩, 종목 코드 앞에 A 붙여서 저장하기\n",
    "    name = stock.get_market_ticker_name(s)\n",
    "    df = pd.read_csv(path+name+\".csv\",encoding='cp949',index_col = 0)\n",
    "    df = df[:-1]\n",
    "    df.to_csv(path2+name+\".csv\",encoding='cp949')"
   ]
  },
  {
   "cell_type": "code",
   "execution_count": 19,
   "metadata": {
    "id": "1FbMyGN-u_Ib"
   },
   "outputs": [],
   "source": [
    "for s in df_decended:\n",
    "    df = pd.read_csv(path+name+\".csv\",encoding='cp949',index_col = 0)"
   ]
  },
  {
   "cell_type": "code",
   "execution_count": null,
   "metadata": {},
   "outputs": [],
   "source": []
  }
 ],
 "metadata": {
  "colab": {
   "authorship_tag": "ABX9TyPWOOV0lQY73r9MyvcCqE32",
   "private_outputs": true,
   "provenance": []
  },
  "kernelspec": {
   "display_name": "Python 3 (ipykernel)",
   "language": "python",
   "name": "python3"
  },
  "language_info": {
   "codemirror_mode": {
    "name": "ipython",
    "version": 3
   },
   "file_extension": ".py",
   "mimetype": "text/x-python",
   "name": "python",
   "nbconvert_exporter": "python",
   "pygments_lexer": "ipython3",
   "version": "3.9.13"
  }
 },
 "nbformat": 4,
 "nbformat_minor": 4
}
