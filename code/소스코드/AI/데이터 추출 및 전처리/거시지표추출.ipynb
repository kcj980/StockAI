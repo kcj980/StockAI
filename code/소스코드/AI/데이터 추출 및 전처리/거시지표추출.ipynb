{
 "cells": [
  {
   "cell_type": "code",
   "execution_count": 2,
   "id": "f8781e2c-8627-4ffa-8b57-af56941b4bee",
   "metadata": {},
   "outputs": [],
   "source": [
    "import FinanceDataReader as fdr\n",
    "import yfinance as yf\n",
    "from pykrx import bond"
   ]
  },
  {
   "cell_type": "code",
   "execution_count": 5,
   "id": "63b79f97-17ae-42da-863d-8c83e15925ae",
   "metadata": {},
   "outputs": [],
   "source": [
    "enddate=\"2022-12-26\"\n",
    "nowdate=\"20221226\""
   ]
  },
  {
   "cell_type": "code",
   "execution_count": 9,
   "id": "685fb1d8-e624-482a-8d85-45aa4326ef4a",
   "metadata": {},
   "outputs": [
    {
     "name": "stdout",
     "output_type": "stream",
     "text": [
      "[*********************100%***********************]  1 of 1 completed\n"
     ]
    }
   ],
   "source": [
    "dfplus = pd.DataFrame()\n",
    "dfs = fdr.DataReader('KS11', '2012')  # 코스피\n",
    "dfplus[\"KOSPI\"] = dfs['Close']\n",
    "dfs = fdr.DataReader('US500', '2012')  # S&P500\n",
    "dfplus[\"S&P500\"] = dfs['Close']\n",
    "dfs = fdr.DataReader('ZG', '2012')  # 금\n",
    "dfplus[\"Gold\"] = dfs['Close']\n",
    "dfs=yf.download('HG=F', '2012-01-01', enddate, auto_adjust=True)\n",
    "# dfs = fdr.DataReader('HG', '2012')  # 구리\n",
    "dfplus[\"Copper\"] = dfs['Close']\n",
    "dfs = bond.get_otc_treasury_yields(\"20120101\", \"nowdate\", \"국고채3년\")\n",
    "\n",
    "# dfs = fdr.DataReader('KR3YT=RR', '2010')  # 3년 한국채수익율\n",
    "dfplus[\"Kgov3\"] = dfs['수익률']\n",
    "dfs = fdr.DataReader('USD/KRW', '2012')  # 환율\n",
    "dfplus[\"USD-K\"] = dfs['Close']\n",
    "dfplus['Date'] = dfplus.index  # 인덱스값을 컬럼으로\n",
    "#dfplus = dfplus.interpolate(method='linear', limit_direction='forward')  # 널값 처리(간극중간값)\n",
    "dfplus.reset_index(drop=True, inplace=True)  # 인덱스 제거\n"
   ]
  },
  {
   "cell_type": "code",
   "execution_count": 7,
   "id": "6f569fb0-a93d-4fde-9238-4fdabbda86e8",
   "metadata": {},
   "outputs": [],
   "source": [
    "dfplus=dfplus.ffill()\n",
    "dfplus=dfplus.bfill()"
   ]
  },
  {
   "cell_type": "code",
   "execution_count": 10,
   "id": "e14e8e26-54be-4660-bf37-c3f2d4d69c7e",
   "metadata": {},
   "outputs": [
    {
     "data": {
      "text/html": [
       "<div>\n",
       "<style scoped>\n",
       "    .dataframe tbody tr th:only-of-type {\n",
       "        vertical-align: middle;\n",
       "    }\n",
       "\n",
       "    .dataframe tbody tr th {\n",
       "        vertical-align: top;\n",
       "    }\n",
       "\n",
       "    .dataframe thead th {\n",
       "        text-align: right;\n",
       "    }\n",
       "</style>\n",
       "<table border=\"1\" class=\"dataframe\">\n",
       "  <thead>\n",
       "    <tr style=\"text-align: right;\">\n",
       "      <th></th>\n",
       "      <th>KOSPI</th>\n",
       "      <th>S&amp;P500</th>\n",
       "      <th>Gold</th>\n",
       "      <th>Copper</th>\n",
       "      <th>Kgov3</th>\n",
       "      <th>USD-K</th>\n",
       "      <th>Date</th>\n",
       "    </tr>\n",
       "  </thead>\n",
       "  <tbody>\n",
       "    <tr>\n",
       "      <th>0</th>\n",
       "      <td>1826.369995</td>\n",
       "      <td>NaN</td>\n",
       "      <td>NaN</td>\n",
       "      <td>NaN</td>\n",
       "      <td>3.340</td>\n",
       "      <td>1159.400024</td>\n",
       "      <td>2012-01-02</td>\n",
       "    </tr>\n",
       "    <tr>\n",
       "      <th>1</th>\n",
       "      <td>1875.410034</td>\n",
       "      <td>1277.060059</td>\n",
       "      <td>7.193639</td>\n",
       "      <td>3.5250</td>\n",
       "      <td>3.350</td>\n",
       "      <td>1152.599976</td>\n",
       "      <td>2012-01-03</td>\n",
       "    </tr>\n",
       "    <tr>\n",
       "      <th>2</th>\n",
       "      <td>1866.219971</td>\n",
       "      <td>1277.300049</td>\n",
       "      <td>7.174930</td>\n",
       "      <td>3.4295</td>\n",
       "      <td>3.350</td>\n",
       "      <td>1144.800049</td>\n",
       "      <td>2012-01-04</td>\n",
       "    </tr>\n",
       "    <tr>\n",
       "      <th>3</th>\n",
       "      <td>1863.739990</td>\n",
       "      <td>1281.060059</td>\n",
       "      <td>7.171812</td>\n",
       "      <td>3.4225</td>\n",
       "      <td>3.340</td>\n",
       "      <td>1147.199951</td>\n",
       "      <td>2012-01-05</td>\n",
       "    </tr>\n",
       "    <tr>\n",
       "      <th>4</th>\n",
       "      <td>1843.140015</td>\n",
       "      <td>1277.810059</td>\n",
       "      <td>7.184284</td>\n",
       "      <td>3.4310</td>\n",
       "      <td>3.350</td>\n",
       "      <td>1153.400024</td>\n",
       "      <td>2012-01-06</td>\n",
       "    </tr>\n",
       "    <tr>\n",
       "      <th>...</th>\n",
       "      <td>...</td>\n",
       "      <td>...</td>\n",
       "      <td>...</td>\n",
       "      <td>...</td>\n",
       "      <td>...</td>\n",
       "      <td>...</td>\n",
       "      <td>...</td>\n",
       "    </tr>\n",
       "    <tr>\n",
       "      <th>2699</th>\n",
       "      <td>2328.949951</td>\n",
       "      <td>3878.439941</td>\n",
       "      <td>33.049999</td>\n",
       "      <td>3.8060</td>\n",
       "      <td>3.638</td>\n",
       "      <td>1283.640015</td>\n",
       "      <td>2022-12-21</td>\n",
       "    </tr>\n",
       "    <tr>\n",
       "      <th>2700</th>\n",
       "      <td>2356.729980</td>\n",
       "      <td>3822.389893</td>\n",
       "      <td>32.439999</td>\n",
       "      <td>3.7515</td>\n",
       "      <td>3.567</td>\n",
       "      <td>1280.770020</td>\n",
       "      <td>2022-12-22</td>\n",
       "    </tr>\n",
       "    <tr>\n",
       "      <th>2701</th>\n",
       "      <td>2313.689941</td>\n",
       "      <td>3844.820068</td>\n",
       "      <td>32.119999</td>\n",
       "      <td>3.8030</td>\n",
       "      <td>3.623</td>\n",
       "      <td>1290.199951</td>\n",
       "      <td>2022-12-23</td>\n",
       "    </tr>\n",
       "    <tr>\n",
       "      <th>2702</th>\n",
       "      <td>NaN</td>\n",
       "      <td>NaN</td>\n",
       "      <td>NaN</td>\n",
       "      <td>NaN</td>\n",
       "      <td>3.663</td>\n",
       "      <td>1279.239990</td>\n",
       "      <td>2022-12-26</td>\n",
       "    </tr>\n",
       "    <tr>\n",
       "      <th>2703</th>\n",
       "      <td>2332.790039</td>\n",
       "      <td>NaN</td>\n",
       "      <td>NaN</td>\n",
       "      <td>NaN</td>\n",
       "      <td>3.662</td>\n",
       "      <td>1272.060059</td>\n",
       "      <td>2022-12-27</td>\n",
       "    </tr>\n",
       "  </tbody>\n",
       "</table>\n",
       "<p>2704 rows × 7 columns</p>\n",
       "</div>"
      ],
      "text/plain": [
       "            KOSPI       S&P500       Gold  Copper  Kgov3        USD-K  \\\n",
       "0     1826.369995          NaN        NaN     NaN  3.340  1159.400024   \n",
       "1     1875.410034  1277.060059   7.193639  3.5250  3.350  1152.599976   \n",
       "2     1866.219971  1277.300049   7.174930  3.4295  3.350  1144.800049   \n",
       "3     1863.739990  1281.060059   7.171812  3.4225  3.340  1147.199951   \n",
       "4     1843.140015  1277.810059   7.184284  3.4310  3.350  1153.400024   \n",
       "...           ...          ...        ...     ...    ...          ...   \n",
       "2699  2328.949951  3878.439941  33.049999  3.8060  3.638  1283.640015   \n",
       "2700  2356.729980  3822.389893  32.439999  3.7515  3.567  1280.770020   \n",
       "2701  2313.689941  3844.820068  32.119999  3.8030  3.623  1290.199951   \n",
       "2702          NaN          NaN        NaN     NaN  3.663  1279.239990   \n",
       "2703  2332.790039          NaN        NaN     NaN  3.662  1272.060059   \n",
       "\n",
       "           Date  \n",
       "0    2012-01-02  \n",
       "1    2012-01-03  \n",
       "2    2012-01-04  \n",
       "3    2012-01-05  \n",
       "4    2012-01-06  \n",
       "...         ...  \n",
       "2699 2022-12-21  \n",
       "2700 2022-12-22  \n",
       "2701 2022-12-23  \n",
       "2702 2022-12-26  \n",
       "2703 2022-12-27  \n",
       "\n",
       "[2704 rows x 7 columns]"
      ]
     },
     "execution_count": 10,
     "metadata": {},
     "output_type": "execute_result"
    }
   ],
   "source": [
    "dfplus"
   ]
  },
  {
   "cell_type": "code",
   "execution_count": 76,
   "id": "73ea35f6-fb6d-4b0c-92c3-8a31ee389986",
   "metadata": {},
   "outputs": [],
   "source": [
    "dfplus.to_csv(\"원본 데이터 임시저장소/거시지표.csv\",index=False)"
   ]
  },
  {
   "cell_type": "code",
   "execution_count": null,
   "id": "533423ed-7622-4a20-8abd-ac780ec7090e",
   "metadata": {},
   "outputs": [],
   "source": [
    "dfplus = pd.DataFrame()\n",
    "dfs = fdr.DataReader('KS11', '2012')  # 코스피"
   ]
  },
  {
   "cell_type": "code",
   "execution_count": 33,
   "id": "b7125d67-de23-472f-bb5a-923a2be85f16",
   "metadata": {},
   "outputs": [
    {
     "name": "stdout",
     "output_type": "stream",
     "text": [
      "HTTP Error 404: Not Found  - symbol \"KR3YT=RR\"not found or invalid periods\n"
     ]
    },
    {
     "data": {
      "text/html": [
       "<div>\n",
       "<style scoped>\n",
       "    .dataframe tbody tr th:only-of-type {\n",
       "        vertical-align: middle;\n",
       "    }\n",
       "\n",
       "    .dataframe tbody tr th {\n",
       "        vertical-align: top;\n",
       "    }\n",
       "\n",
       "    .dataframe thead th {\n",
       "        text-align: right;\n",
       "    }\n",
       "</style>\n",
       "<table border=\"1\" class=\"dataframe\">\n",
       "  <thead>\n",
       "    <tr style=\"text-align: right;\">\n",
       "      <th></th>\n",
       "    </tr>\n",
       "  </thead>\n",
       "  <tbody>\n",
       "  </tbody>\n",
       "</table>\n",
       "</div>"
      ],
      "text/plain": [
       "Empty DataFrame\n",
       "Columns: []\n",
       "Index: []"
      ]
     },
     "execution_count": 33,
     "metadata": {},
     "output_type": "execute_result"
    }
   ],
   "source": [
    "# bond3_rate = fdr.DataReader('KR3YT=RR','2002')\n",
    "# bond3_rate.head()"
   ]
  },
  {
   "cell_type": "code",
   "execution_count": null,
   "id": "497fc71c-066d-4614-8ffa-6ccb7569e9e8",
   "metadata": {},
   "outputs": [],
   "source": []
  },
  {
   "cell_type": "code",
   "execution_count": null,
   "id": "a20cd41a-3912-480a-9569-fbf670573e9f",
   "metadata": {},
   "outputs": [],
   "source": []
  },
  {
   "cell_type": "code",
   "execution_count": null,
   "id": "2e84b3e1-227f-42ac-9cbe-8a55148152e7",
   "metadata": {},
   "outputs": [],
   "source": []
  }
 ],
 "metadata": {
  "kernelspec": {
   "display_name": "Python 3 (ipykernel)",
   "language": "python",
   "name": "python3"
  },
  "language_info": {
   "codemirror_mode": {
    "name": "ipython",
    "version": 3
   },
   "file_extension": ".py",
   "mimetype": "text/x-python",
   "name": "python",
   "nbconvert_exporter": "python",
   "pygments_lexer": "ipython3",
   "version": "3.9.13"
  }
 },
 "nbformat": 4,
 "nbformat_minor": 5
}
