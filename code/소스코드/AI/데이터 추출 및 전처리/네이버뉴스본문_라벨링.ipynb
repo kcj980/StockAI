{
 "cells": [
  {
   "cell_type": "code",
   "execution_count": 13,
   "id": "5bc2b24c-4c01-49b1-95a5-a3b77a13e3d5",
   "metadata": {},
   "outputs": [],
   "source": [
    "naverfilepath=\"원본 데이터 임시저장소/Merged_df_Naver.csv\"\n",
    "kospifilepath='원본 데이터 임시저장소/거시지표.csv'\n",
    "# ~ 일뒤 \n",
    "startday=5\n",
    "# ~ 일평균\n",
    "meanday=4"
   ]
  },
  {
   "cell_type": "code",
   "execution_count": 14,
   "id": "163fa0c2-8dff-45cf-beaa-ffbddc903a37",
   "metadata": {},
   "outputs": [],
   "source": [
    "import pandas as pd\n",
    "naver=pd.read_csv(naverfilepath)\n",
    "naver.columns = [\"내용\",\"Date\"]\n",
    "kospi=pd.read_csv(kospifilepath,encoding='cp949')\n",
    "kospi=kospi[[\"KOSPI\",\"Date\"]]\n",
    "kospi[\"KOSPIs\"]=kospi[\"KOSPI\"].shift(-1)\n",
    "kospi[\"updown\"]=kospi[\"KOSPIs\"]-kospi[\"KOSPI\"]\n",
    "kospi[\"yesterdayup_down\"]=pd.Series(map(lambda x:1 if x>0 else 0,kospi[\"updown\"]))\n",
    "mergs=pd.merge(naver,kospi,on='Date')\n",
    "naver=mergs\n",
    "df = pd.DataFrame()\n",
    "df[\"KOSPI\"]=naver[\"KOSPI\"]\n",
    "df[\"KOSPI\"]=0\n",
    "for x in range(startday-meanday+1,startday+1):\n",
    "    df[\"KOSPI\"]+=naver[\"KOSPI\"].shift(-x)\n",
    "df[\"KOSPI\"]=df[\"KOSPI\"]/meanday\n",
    "naver[\"KOSPI_shift_mean\"]=df[\"KOSPI\"]\n",
    "naver=naver.drop([\"KOSPIs\",\"updown\"],axis=1)\n",
    "naver[\"updown\"]=naver[\"KOSPI_shift_mean\"]-naver[\"KOSPI\"]\n",
    "naver[\"label\"]=pd.Series(map(lambda x: 1 if x>0 else 0,naver[\"updown\"]))\n",
    "naver=naver.dropna()"
   ]
  },
  {
   "cell_type": "code",
   "execution_count": 15,
   "id": "aab788b4-d201-446f-9ad6-f23844438f64",
   "metadata": {},
   "outputs": [],
   "source": [
    "naver.to_csv(\"../데이터 저장소/NaverNew_labeling54.csv\",index=False)"
   ]
  },
  {
   "cell_type": "code",
   "execution_count": 25,
   "id": "57dc562d-6e70-4d92-b5b3-51350621bd97",
   "metadata": {},
   "outputs": [],
   "source": []
  }
 ],
 "metadata": {
  "kernelspec": {
   "display_name": "mecab",
   "language": "python",
   "name": "mecab"
  },
  "language_info": {
   "codemirror_mode": {
    "name": "ipython",
    "version": 3
   },
   "file_extension": ".py",
   "mimetype": "text/x-python",
   "name": "python",
   "nbconvert_exporter": "python",
   "pygments_lexer": "ipython3",
   "version": "3.8.0"
  }
 },
 "nbformat": 4,
 "nbformat_minor": 5
}
